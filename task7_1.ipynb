{
  "nbformat": 4,
  "nbformat_minor": 0,
  "metadata": {
    "colab": {
      "provenance": [],
      "authorship_tag": "ABX9TyNwe3MAUcJFiYIxiP6F2Dnm",
      "include_colab_link": true
    },
    "kernelspec": {
      "name": "python3",
      "display_name": "Python 3"
    },
    "language_info": {
      "name": "python"
    }
  },
  "cells": [
    {
      "cell_type": "markdown",
      "metadata": {
        "id": "view-in-github",
        "colab_type": "text"
      },
      "source": [
        "<a href=\"https://colab.research.google.com/github/cofize/try/blob/main/task7_1.ipynb\" target=\"_parent\"><img src=\"https://colab.research.google.com/assets/colab-badge.svg\" alt=\"Open In Colab\"/></a>"
      ]
    },
    {
      "cell_type": "code",
      "source": [
        "import random\n",
        "\n",
        "def check_input(subarray):\n",
        "    if not isinstance(subarray, list) or len(subarray) != 2:\n",
        "        return False\n",
        "    a, b = subarray\n",
        "    if not isinstance(a, int) or not isinstance(b, int):\n",
        "        return False\n",
        "    if a <= 0 or b <= 0:\n",
        "        return False\n",
        "    return a < b\n",
        "\n",
        "def get_ladder(valid_subarray):\n",
        "    a, b = valid_subarray\n",
        "    n = random.randint(a, b)\n",
        "\n",
        "    # Первая лесенка (от B до N)\n",
        "    first_ladder = ['*' * i for i in range(b, n-1, -1)]\n",
        "\n",
        "    # Вторая лесенка (от A до N)\n",
        "    second_ladder = ['*' * i for i in range(a, n+1)]\n",
        "\n",
        "    return first_ladder + second_ladder\n",
        "\n",
        "def main(input_list):\n",
        "    valid_subarray = None\n",
        "    for subarray in input_list:\n",
        "        if check_input(subarray):\n",
        "            valid_subarray = subarray\n",
        "            break\n",
        "\n",
        "    if valid_subarray is not None:\n",
        "        ladder = get_ladder(valid_subarray)\n",
        "        for step in ladder:\n",
        "            print(step)"
      ],
      "metadata": {
        "id": "ECOcCotvdWPr"
      },
      "execution_count": null,
      "outputs": []
    }
  ]
}