{
  "nbformat": 4,
  "nbformat_minor": 0,
  "metadata": {
    "colab": {
      "provenance": [],
      "authorship_tag": "ABX9TyN+YkjQkdXfTz4Aod9566ds",
      "include_colab_link": true
    },
    "kernelspec": {
      "name": "python3",
      "display_name": "Python 3"
    },
    "language_info": {
      "name": "python"
    }
  },
  "cells": [
    {
      "cell_type": "markdown",
      "metadata": {
        "id": "view-in-github",
        "colab_type": "text"
      },
      "source": [
        "<a href=\"https://colab.research.google.com/github/cofize/try/blob/main/task6_5.ipynb\" target=\"_parent\"><img src=\"https://colab.research.google.com/assets/colab-badge.svg\" alt=\"Open In Colab\"/></a>"
      ]
    },
    {
      "cell_type": "code",
      "source": [
        "def min_max_line(f):\n",
        "    with open(f, 'r') as file:\n",
        "      lines = file.readlines()\n",
        "      lines = [line.strip() for line in lines]\n",
        "\n",
        "    shortest = min(lines, key=len)\n",
        "    longest = max(lines, key=len)\n",
        "\n",
        "    return f\"Min = '{shortest}', max = '{longest}'.\"\n"
      ],
      "metadata": {
        "id": "t1XNh0H-aepx"
      },
      "execution_count": null,
      "outputs": []
    }
  ]
}